{
 "cells": [
  {
   "cell_type": "code",
   "execution_count": 15,
   "metadata": {},
   "outputs": [],
   "source": [
    "import numpy as np\n",
    "import pandas as pd\n",
    "from matplotlib import pyplot as plt\n",
    "import math\n",
    "from scipy.integrate import quad\n",
    "from sklearn.preprocessing import PolynomialFeatures"
   ]
  },
  {
   "cell_type": "markdown",
   "metadata": {},
   "source": [
    "# KPCA and Dimension Reduction"
   ]
  },
  {
   "cell_type": "code",
   "execution_count": 22,
   "metadata": {},
   "outputs": [],
   "source": [
    "from numpy.linalg import eig\n",
    "X = pd.read_csv(\"PCA_LDA_circles.csv\").to_numpy()\n",
    "scaler = PolynomialFeatures(degree=2)\n",
    "Φ = scaler.fit_transform(X)\n",
    "K = Φ.dot(Φ.T)\n",
    "rows = X.shape[0]\n",
    "# Find centering matrix\n",
    "C = np.identity(rows) - (1/rows) * np.ones((rows,rows))\n"
   ]
  },
  {
   "cell_type": "code",
   "execution_count": 45,
   "metadata": {},
   "outputs": [],
   "source": [
    "# Calculate Q\n",
    "Q = (1/rows) * K.dot(C).dot(K)\n",
    "\n",
    "# Calculate eigenvalue and eigenvectors of Q \n",
    "eigen_val, eigen_vect = eig(Q)\n",
    "index_of_largest_eigen = np.argmax(eigen_val)\n",
    "\n",
    "# Grab alpha\n",
    "alpha = eigen_vect[index_of_largest_eigen]\n",
    "alpha = np.reshape(alpha, (len(alpha), 1))\n",
    "\n",
    "Xr = K.dot(alpha)\n"
   ]
  },
  {
   "cell_type": "code",
   "execution_count": 49,
   "metadata": {},
   "outputs": [
    {
     "data": {
      "image/png": "[encoded data removed]",
      "text/plain": [
       "<Figure size 640x480 with 1 Axes>"
      ]
     },
     "metadata": {},
     "output_type": "display_data"
    }
   ],
   "source": [
    "plt.subplot(222)\n",
    "plt.scatter(Xr[0:49, 0], np.zeros((49,1)), color='red', marker='x')\n",
    "plt.scatter(Xr[49:99, 0], np.zeros((50,1)), color='blue', marker='x')\n",
    "plt.show()\n"
   ]
  },
  {
   "cell_type": "markdown",
   "metadata": {},
   "source": [
    "# LDA and Dimension Reduction"
   ]
  },
  {
   "cell_type": "code",
   "execution_count": null,
   "metadata": {},
   "outputs": [],
   "source": []
  },
  {
   "cell_type": "code",
   "execution_count": null,
   "metadata": {},
   "outputs": [],
   "source": []
  }
 ],
 "metadata": {
  "kernelspec": {
   "display_name": "base",
   "language": "python",
   "name": "python3"
  },
  "language_info": {
   "codemirror_mode": {
    "name": "ipython",
    "version": 3
   },
   "file_extension": ".py",
   "mimetype": "text/x-python",
   "name": "python",
   "nbconvert_exporter": "python",
   "pygments_lexer": "ipython3",
   "version": "3.11.7"
  }
 },
 "nbformat": 4,
 "nbformat_minor": 2
}
